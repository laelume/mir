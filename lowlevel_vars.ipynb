{
 "cells": [
  {
   "cell_type": "code",
   "execution_count": 3,
   "metadata": {},
   "outputs": [],
   "source": [
    "import numpy as np\n",
    "import librosa\n",
    "import librosa.display\n",
    "import matplotlib.pyplot as plt\n",
    "\n",
    "hop_length = 1024"
   ]
  },
  {
   "cell_type": "code",
   "execution_count": 2,
   "metadata": {},
   "outputs": [
    {
     "name": "stderr",
     "output_type": "stream",
     "text": [
      "C:\\Users\\laelu\\anaconda3\\lib\\site-packages\\librosa\\core\\audio.py:162: UserWarning: PySoundFile failed. Trying audioread instead.\n",
      "  warnings.warn(\"PySoundFile failed. Trying audioread instead.\")\n"
     ]
    }
   ],
   "source": [
    "f1=\"C:/Users/laelu/fma/data/fma_small/000/000002.mp3\"\n",
    "s1 , sr = librosa.load(f1,mono=True,sr=None)\n",
    "\n",
    "f2=\"C:/Users/laelu/fma/data/fma_small/000/000005.mp3\"\n",
    "s2 , sr = librosa.load(f2,mono=True,sr=None)\n",
    "\n",
    "f3=\"C:/Users/laelu/fma/data/fma_small/000/000010.mp3\"\n",
    "s3 , sr = librosa.load(f3,mono=True,sr=None)"
   ]
  },
  {
   "cell_type": "code",
   "execution_count": 3,
   "metadata": {},
   "outputs": [],
   "source": [
    "S1 = librosa.feature.melspectrogram(y=s1, sr=sr, n_mels=128)\n",
    "log_S1 = librosa.power_to_db(S1, ref=np.max)\n",
    "\n",
    "S2 = librosa.feature.melspectrogram(y=s2, sr=sr, n_mels=128)\n",
    "log_S2 = librosa.power_to_db(S2, ref=np.max)\n",
    "\n",
    "S3 = librosa.feature.melspectrogram(y=s3, sr=sr, n_mels=128)\n",
    "log_S3 = librosa.power_to_db(S3, ref=np.max)"
   ]
  },
  {
   "cell_type": "code",
   "execution_count": 4,
   "metadata": {},
   "outputs": [],
   "source": [
    "sh1, sp1 = librosa.effects.hpss(s1)\n",
    "S_H1   = librosa.feature.melspectrogram(sh1, sr=sr)\n",
    "S_P1 = librosa.feature.melspectrogram(sp1, sr=sr)\n",
    "log_SH1 = librosa.power_to_db(S_H1, ref=np.max)\n",
    "log_SP1 = librosa.power_to_db(S_P1, ref=np.max)\n",
    "\n",
    "sh2, sp2 = librosa.effects.hpss(s2)\n",
    "S_H2   = librosa.feature.melspectrogram(sh2, sr=sr)\n",
    "S_P2 = librosa.feature.melspectrogram(sp2, sr=sr)\n",
    "log_SH2 = librosa.power_to_db(S_H2, ref=np.max)\n",
    "log_SP2 = librosa.power_to_db(S_P2, ref=np.max)\n",
    "\n",
    "sh3, sp3 = librosa.effects.hpss(s3)\n",
    "S_H3   = librosa.feature.melspectrogram(sh3, sr=sr)\n",
    "S_P3 = librosa.feature.melspectrogram(sp3, sr=sr)\n",
    "log_SH3 = librosa.power_to_db(S_H3, ref=np.max)\n",
    "log_SP3 = librosa.power_to_db(S_P3, ref=np.max)"
   ]
  },
  {
   "cell_type": "code",
   "execution_count": 5,
   "metadata": {},
   "outputs": [],
   "source": [
    "mfcc1 = librosa.feature.mfcc(y=s1, sr=sr, hop_length=hop_length, n_mfcc=13)\n",
    "\n",
    "mfcc2 = librosa.feature.mfcc(y=s2, sr=sr, hop_length=hop_length, n_mfcc=13)\n",
    "\n",
    "mfcc3 = librosa.feature.mfcc(y=s3, sr=sr, hop_length=hop_length, n_mfcc=13)"
   ]
  },
  {
   "cell_type": "code",
   "execution_count": 6,
   "metadata": {},
   "outputs": [],
   "source": [
    "mfcc01 = librosa.feature.mfcc(S=log_S1, n_mfcc=13)\n",
    "delta_mfcc01  = librosa.feature.delta(mfcc01[1:12])\n",
    "delta2_mfcc01 = librosa.feature.delta(mfcc01[1:12], order=2)\n",
    "\n",
    "mfcc02 = librosa.feature.mfcc(S=log_S2, n_mfcc=13)\n",
    "delta_mfcc02  = librosa.feature.delta(mfcc02[1:12])\n",
    "delta2_mfcc02 = librosa.feature.delta(mfcc02[1:12], order=2)\n",
    "\n",
    "mfcc03 = librosa.feature.mfcc(S=log_S3, n_mfcc=13)\n",
    "delta_mfcc03  = librosa.feature.delta(mfcc03[1:12])\n",
    "delta2_mfcc03 = librosa.feature.delta(mfcc03[1:12], order=2)"
   ]
  },
  {
   "cell_type": "code",
   "execution_count": null,
   "metadata": {},
   "outputs": [],
   "source": []
  },
  {
   "cell_type": "code",
   "execution_count": null,
   "metadata": {},
   "outputs": [],
   "source": []
  },
  {
   "cell_type": "code",
   "execution_count": null,
   "metadata": {},
   "outputs": [],
   "source": []
  }
 ],
 "metadata": {
  "kernelspec": {
   "display_name": "Python 3",
   "language": "python",
   "name": "python3"
  },
  "language_info": {
   "codemirror_mode": {
    "name": "ipython",
    "version": 3
   },
   "file_extension": ".py",
   "mimetype": "text/x-python",
   "name": "python",
   "nbconvert_exporter": "python",
   "pygments_lexer": "ipython3",
   "version": "3.8.5"
  }
 },
 "nbformat": 4,
 "nbformat_minor": 4
}
